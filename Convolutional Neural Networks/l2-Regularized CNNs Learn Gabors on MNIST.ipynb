{
 "cells": [
  {
   "cell_type": "markdown",
   "metadata": {},
   "source": [
    "# $\\ell^2$-Regularized CNNs Learn Gabors on MNIST"
   ]
  },
  {
   "cell_type": "code",
   "execution_count": null,
   "metadata": {},
   "outputs": [],
   "source": [
    "%env CUDA_VISIBLE_DEVICES=1\n",
    "\n",
    "import tensorflow as tf\n",
    "\n",
    "import numpy as np\n",
    "\n",
    "import matplotlib.pyplot as plt\n",
    "\n",
    "%matplotlib inline"
   ]
  },
  {
   "cell_type": "code",
   "execution_count": null,
   "metadata": {},
   "outputs": [],
   "source": [
    "from tensorflow.examples.tutorials.mnist import input_data\n",
    "mnist = input_data.read_data_sets('MNIST_data', one_hot=True)"
   ]
  },
  {
   "cell_type": "markdown",
   "metadata": {},
   "source": [
    "## Helper Functions"
   ]
  },
  {
   "cell_type": "code",
   "execution_count": null,
   "metadata": {
    "collapsed": true
   },
   "outputs": [],
   "source": [
    "# define some helper functions to abstract away the tensorflow interface\n",
    "## and make the network-building code cleaner\n",
    "\n",
    "def weight_variable(shape,name):\n",
    "    initial = tf.truncated_normal(shape, stddev=0.1, name=name)\n",
    "    return tf.Variable(initial)\n",
    "\n",
    "def bias_variable(shape,name):\n",
    "    initial = tf.constant(0.1, shape=shape, name=name)\n",
    "    return tf.Variable(initial)\n",
    "\n",
    "def conv2d(x, W,name):\n",
    "    return tf.nn.conv2d(x, W, strides=[1, 1, 1, 1], padding='SAME', name=name)\n",
    "\n",
    "def max_pool_2x2(x,name):\n",
    "    return tf.nn.max_pool(x, ksize=[1, 2, 2, 1],\n",
    "                        strides=[1, 2, 2, 1], padding='SAME', name=name)"
   ]
  },
  {
   "cell_type": "code",
   "execution_count": null,
   "metadata": {
    "collapsed": true
   },
   "outputs": [],
   "source": [
    "def specifyGraph(weight_decay=2e-1):\n",
    "    \n",
    "    graph = tf.Graph()\n",
    "    \n",
    "    with graph.as_default():\n",
    "        \n",
    "        x = tf.placeholder(tf.float32, shape=[None, 784],name=\"inputs\")\n",
    "        y_ = tf.placeholder(tf.float32, shape=[None, 10],name=\"targets\")\n",
    "\n",
    "        x_image = tf.reshape(x, [-1, 28, 28, 1],name=\"reshaped_input\")\n",
    "\n",
    "        keep_prob = tf.placeholder(tf.float32,name=\"dropout_keep_probability\")\n",
    "\n",
    "        ### Convolution 1\n",
    "        W_conv1 = weight_variable([9, 9, 1, 32],'weights_convolution_1')\n",
    "        b_conv1 = bias_variable([32],'biases_convolution_1')\n",
    "\n",
    "        h_conv1 = tf.nn.relu(conv2d(x_image, W_conv1,'output_convolution_1') \n",
    "                                     + b_conv1,\n",
    "                            name=\"activations_convolution_1\")\n",
    "\n",
    "        h_pool1 = max_pool_2x2(h_conv1,\"activations_pool_1\")\n",
    "\n",
    "        ### Convolution 2\n",
    "\n",
    "        W_conv2 = weight_variable([5, 5, 32, 64],'weights_convolution_2')\n",
    "        b_conv2 = bias_variable([64], 'biases_convolution_2')\n",
    "\n",
    "        h_conv2 = tf.nn.relu(conv2d(h_pool1, W_conv2,'output_convolution_2') \n",
    "                                     + b_conv2,\n",
    "                            name=\"activations_convolution_2\")\n",
    "\n",
    "        h_pool2 = max_pool_2x2(h_conv2,\"activations_pool_2\")\n",
    "\n",
    "        ### Fully-Connected 1\n",
    "\n",
    "        W_fc1 = weight_variable([7 * 7 * 64, 1024],'weights_fullyconnected_1')\n",
    "        b_fc1 = bias_variable([1024],'biases_fullyconnected_1')\n",
    "\n",
    "        h_pool2_flat = tf.reshape(h_pool2, [-1, 7*7*64],\n",
    "                                 name=\"reshapedactivations_hidden_2\")\n",
    "        h_fc1 = tf.nn.relu(tf.matmul(h_pool2_flat, W_fc1,\n",
    "                                    name=\"output_fullyconnected_1\") \n",
    "                           + b_fc1,\n",
    "                          name=\"activations_fullyconnected_1\")\n",
    "\n",
    "\n",
    "        h_fc1_drop = tf.nn.dropout(h_fc1, keep_prob,\n",
    "                                  name=\"droppedactivations_fullyconnected_1\")\n",
    "\n",
    "        ### Fully-Connected 2\n",
    "\n",
    "        W_fc2 = weight_variable([1024, 10],\"weights_fullyconnected_2\")\n",
    "        b_fc2 = bias_variable([10], \"biases_fullyconnected_2\")\n",
    "\n",
    "        y_conv = tf.add(tf.matmul(h_fc1_drop, W_fc2,\n",
    "                          name=\"outputs_fullyconnected_2\"),\n",
    "                        b_fc2,name=\"activations_fullyconnected_2\")\n",
    "\n",
    "        cross_entropy = tf.reduce_mean(\n",
    "                            tf.nn.softmax_cross_entropy_with_logits(labels=y_, logits=y_conv,\n",
    "                                                                       name=\"crossentropy_cost\"),\n",
    "                                name=\"mean_crossentropy_cost\")\n",
    "\n",
    "        weight_decay = tf.reduce_sum([tf.nn.l2_loss(weight_decay*weight) # .2, 10k; .1, 25k\n",
    "                              for weight in [W_conv1,W_conv2,W_fc1,W_fc2]])\n",
    "\n",
    "        total_cost = cross_entropy + weight_decay\n",
    "\n",
    "        train_step = tf.train.AdamOptimizer(1e-4).minimize(total_cost)\n",
    "\n",
    "        correct_prediction = tf.equal(tf.argmax(y_conv, 1,\n",
    "                                               name=\"MAPestimate_index\"), \n",
    "                                      tf.argmax(y_, 1,\n",
    "                                               name=\"label_index\"),\n",
    "                                     name=\"MAP_iscorrect\")\n",
    "\n",
    "        accuracy = tf.reduce_mean(tf.cast(correct_prediction, tf.float32),\n",
    "                             name=\"fraction_correct\")\n",
    "\n",
    "        operations = {'inputs':x,\n",
    "                      'targets':y_,\n",
    "                      'keep_prob':keep_prob,\n",
    "                      'accuracy':accuracy,\n",
    "                      'output':y_conv,\n",
    "                      'train_step':train_step,\n",
    "                      'filters':W_conv1\n",
    "                      }\n",
    "    \n",
    "    return graph, operations"
   ]
  },
  {
   "cell_type": "code",
   "execution_count": null,
   "metadata": {
    "collapsed": true
   },
   "outputs": [],
   "source": [
    "def runTrain(graph,num_minibatches,batch_size=64):\n",
    "    \n",
    "    with tf.Session(graph=graph) as sess:\n",
    "        sess.run(tf.global_variables_initializer())\n",
    "        x = ops['inputs']; y_ = ops['targets']\n",
    "        accuracy = ops['accuracy']\n",
    "        train_step = ops['train_step']\n",
    "        keep_prob = ops['keep_prob']\n",
    "        filters = ops['filters']\n",
    "\n",
    "        for i in range(num_minibatches):\n",
    "            batch = mnist.train.next_batch(batch_size)\n",
    "            if i % 500 == 0:\n",
    "                train_accuracy = accuracy.eval(feed_dict={\n",
    "                                    x: batch[0], y_: batch[1], keep_prob: 1.0})\n",
    "                print('step %d, training accuracy %g' % (i, train_accuracy))\n",
    "\n",
    "            train_step.run(feed_dict={x: batch[0], y_: batch[1], keep_prob: 0.5})\n",
    "\n",
    "        print('test accuracy %g' % accuracy.eval(feed_dict={\n",
    "                    x: mnist.test.images, y_: mnist.test.labels, keep_prob: 1.0}))\n",
    "        \n",
    "        weights = filters.eval()\n",
    "    \n",
    "    return weights"
   ]
  },
  {
   "cell_type": "code",
   "execution_count": null,
   "metadata": {},
   "outputs": [],
   "source": [
    "regularized_graph, ops = specifyGraph(weight_decay=2e-1)"
   ]
  },
  {
   "cell_type": "code",
   "execution_count": null,
   "metadata": {},
   "outputs": [],
   "source": [
    "regularized_weights = runTrain(graph,10000)"
   ]
  },
  {
   "cell_type": "code",
   "execution_count": null,
   "metadata": {},
   "outputs": [],
   "source": [
    "unregularized_graph, ops = specifyGraph(weight_decay=0.)\n",
    "\n",
    "unregularized_weights = runTrain(unregularized_graph,10000)"
   ]
  },
  {
   "cell_type": "code",
   "execution_count": null,
   "metadata": {
    "collapsed": true
   },
   "outputs": [],
   "source": [
    "def plotFilters(filterBank,title=\"\"):\n",
    "    numFilters = filterBank.shape[-1]\n",
    "    plt.figure(figsize=(6,6))\n",
    "\n",
    "    for idx in range(numFilters):\n",
    "        ax = plt.subplot(5,7,idx+1)\n",
    "        filtr = filterBank[:,:,0,idx]\n",
    "        ax.imshow(filtr,cmap='Greys',interpolation='None')\n",
    "        ax.set_xticks([]); ax.set_yticks([]);\n",
    "    plt.suptitle(title+\" Filters\",\n",
    "                fontsize='xx-large',fontweight='bold');"
   ]
  },
  {
   "cell_type": "code",
   "execution_count": null,
   "metadata": {},
   "outputs": [],
   "source": [
    "plotFilters(unregularized_weights, title=\"Unregularized\")"
   ]
  },
  {
   "cell_type": "code",
   "execution_count": null,
   "metadata": {},
   "outputs": [],
   "source": [
    "plotFilters(regularized_weights,title=r\"$\\ell^2$ Regularized\")"
   ]
  },
  {
   "cell_type": "code",
   "execution_count": null,
   "metadata": {
    "collapsed": true
   },
   "outputs": [],
   "source": [
    "import scipy.signal"
   ]
  },
  {
   "cell_type": "code",
   "execution_count": null,
   "metadata": {
    "collapsed": true
   },
   "outputs": [],
   "source": [
    "gaussian_random_weights = np.random.standard_normal(size=regularized_weights.shape)"
   ]
  },
  {
   "cell_type": "code",
   "execution_count": null,
   "metadata": {
    "collapsed": true
   },
   "outputs": [],
   "source": [
    "def plotAutoCorrs(weights,names):\n",
    "    \n",
    "    plt.figure(figsize=(16,4));\n",
    "    plt.subplot(1,len(weights),1)\n",
    "    \n",
    "    for idx,(weight,name) in enumerate(zip(weights,names)):\n",
    "        ax = plt.subplot(1,len(weights),idx+1)\n",
    "        plotAutoCorr(ax,weight,name)\n",
    "    \n",
    "    plt.tight_layout()\n",
    "    plt.suptitle(\"Weight Auto-Correlations\",\n",
    "                fontsize='xx-large',fontweight='bold',\n",
    "                 y=1.05,\n",
    "                )\n",
    "    return\n",
    "\n",
    "def plotAutoCorr(ax,weight,name):\n",
    "    \n",
    "    auto_corr = scipy.signal.correlate2d(weight,weight,mode='same')\n",
    "    auto_corr_shape = auto_corr.shape\n",
    "    auto_corr = auto_corr.ravel()\n",
    "    auto_corr[np.argmax(auto_corr)] = 0\n",
    "    auto_corr = auto_corr.reshape(auto_corr_shape)\n",
    "    \n",
    "    ax.imshow(np.triu(auto_corr));\n",
    "    ax.set_xticks([]); ax.set_yticks([]);\n",
    "    plt.title(name,\n",
    "             fontsize='x-large',\n",
    "             fontweight='bold')\n",
    "    return"
   ]
  },
  {
   "cell_type": "code",
   "execution_count": null,
   "metadata": {},
   "outputs": [],
   "source": [
    "randomWeightIdx = np.random.choice(numFilters)\n",
    "no_reg_weight = unregularized_weights[:,:,0,randomWeightIdx]\n",
    "reg_weight = regularized_weights[:,:,0,randomWeightIdx]\n",
    "randomized_weight = gaussian_random_weights[:,:,0,randomWeightIdx]\n",
    "\n",
    "weights_to_show = [no_reg_weight, reg_weight, randomized_weight]\n",
    "names = [\"No Regularization\", r\"$\\ell^2$ Regularization\", \"Gaussian Random\"]\n",
    "\n",
    "plotAutoCorrs(weights_to_show,names)"
   ]
  }
 ],
 "metadata": {
  "kernelspec": {
   "display_name": "Python 3",
   "language": "python",
   "name": "python3"
  },
  "language_info": {
   "codemirror_mode": {
    "name": "ipython",
    "version": 3
   },
   "file_extension": ".py",
   "mimetype": "text/x-python",
   "name": "python",
   "nbconvert_exporter": "python",
   "pygments_lexer": "ipython3",
   "version": "3.4.3"
  }
 },
 "nbformat": 4,
 "nbformat_minor": 2
}
