{
 "cells": [
  {
   "cell_type": "markdown",
   "metadata": {},
   "source": [
    "# $\\ell^2$-Regularized CNNs Learn Gabors on MNIST"
   ]
  },
  {
   "cell_type": "code",
   "execution_count": null,
   "metadata": {},
   "outputs": [],
   "source": [
    "%env CUDA_VISIBLE_DEVICES=1\n",
    "\n",
    "import tensorflow as tf\n",
    "\n",
    "import numpy as np\n",
    "\n",
    "import matplotlib.pyplot as plt\n",
    "\n",
    "import utils.CNN as CNN\n",
    "\n",
    "%matplotlib inline"
   ]
  },
  {
   "cell_type": "code",
   "execution_count": null,
   "metadata": {},
   "outputs": [],
   "source": [
    "from tensorflow.examples.tutorials.mnist import input_data\n",
    "mnist = input_data.read_data_sets('MNIST_data', one_hot=True)"
   ]
  },
  {
   "cell_type": "code",
   "execution_count": null,
   "metadata": {
    "collapsed": true
   },
   "outputs": [],
   "source": [
    "def train(graph,num_minibatches,batch_size=64,showEvery=1000):\n",
    "    \n",
    "    with tf.Session(graph=graph) as sess:\n",
    "        sess.run(tf.global_variables_initializer())\n",
    "        x = ops['inputs']; y_ = ops['targets']\n",
    "        accuracy = ops['accuracy']\n",
    "        train_step = ops['train_step']\n",
    "        keep_prob = ops['keep_prob']\n",
    "        filters = ops['filters']\n",
    "\n",
    "        for i in range(num_minibatches):\n",
    "            batch = mnist.train.next_batch(batch_size)\n",
    "            if i % showEvery == 0:\n",
    "                train_accuracy = accuracy.eval(feed_dict={\n",
    "                                    x: batch[0], y_: batch[1], keep_prob: 1.0})\n",
    "                print('step %d, training accuracy %g' % (i, train_accuracy))\n",
    "\n",
    "            train_step.run(feed_dict={x: batch[0], y_: batch[1], keep_prob: 0.5})\n",
    "\n",
    "        print('test accuracy %g' % accuracy.eval(feed_dict={\n",
    "                    x: mnist.test.images, y_: mnist.test.labels, keep_prob: 1.0}))\n",
    "        \n",
    "        weights = filters.eval()\n",
    "    \n",
    "    return weights"
   ]
  },
  {
   "cell_type": "code",
   "execution_count": null,
   "metadata": {},
   "outputs": [],
   "source": [
    "regularized_graph, ops = CNN.specifyGraph(weight_decay=2e-1)\n",
    "\n",
    "regularized_weights = train(regularized_graph,10000)"
   ]
  },
  {
   "cell_type": "code",
   "execution_count": null,
   "metadata": {},
   "outputs": [],
   "source": [
    "unregularized_graph, ops = CNN.specifyGraph(weight_decay=0.)\n",
    "\n",
    "unregularized_weights = train(unregularized_graph,10000)"
   ]
  },
  {
   "cell_type": "code",
   "execution_count": null,
   "metadata": {},
   "outputs": [],
   "source": [
    "CNN.plotFilters(unregularized_weights, title=\"Unregularized\")"
   ]
  },
  {
   "cell_type": "code",
   "execution_count": null,
   "metadata": {},
   "outputs": [],
   "source": [
    "CNN.plotFilters(regularized_weights,title=r\"$\\ell^2$ Regularized\")"
   ]
  },
  {
   "cell_type": "code",
   "execution_count": null,
   "metadata": {
    "collapsed": true
   },
   "outputs": [],
   "source": [
    "gaussian_random_weights = np.random.standard_normal(size=regularized_weights.shape)"
   ]
  },
  {
   "cell_type": "code",
   "execution_count": null,
   "metadata": {},
   "outputs": [],
   "source": [
    "randomWeightIdx = np.random.choice(unregularized_weights.shape[-1])\n",
    "no_reg_weight = unregularized_weights[:,:,0,randomWeightIdx]\n",
    "reg_weight = regularized_weights[:,:,0,randomWeightIdx]\n",
    "randomized_weight = gaussian_random_weights[:,:,0,randomWeightIdx]\n",
    "\n",
    "weights_to_show = [no_reg_weight, reg_weight, randomized_weight]\n",
    "names = [\"No Regularization\", r\"$\\ell^2$ Regularization\", \"Gaussian Random\"]\n",
    "\n",
    "CNN.plotAutoCorrs(weights_to_show,names)"
   ]
  }
 ],
 "metadata": {
  "kernelspec": {
   "display_name": "Python 3",
   "language": "python",
   "name": "python3"
  },
  "language_info": {
   "codemirror_mode": {
    "name": "ipython",
    "version": 3
   },
   "file_extension": ".py",
   "mimetype": "text/x-python",
   "name": "python",
   "nbconvert_exporter": "python",
   "pygments_lexer": "ipython3",
   "version": "3.4.3"
  }
 },
 "nbformat": 4,
 "nbformat_minor": 2
}
